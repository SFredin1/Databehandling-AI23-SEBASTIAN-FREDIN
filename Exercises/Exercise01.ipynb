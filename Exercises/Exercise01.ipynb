{
 "cells": [
  {
   "cell_type": "markdown",
   "metadata": {},
   "source": [
    "### Exercise1: ImportPandas \n",
    "Q1:\n",
    "\n",
    "How do you import the Pandas library in Python?\n",
    "\n",
    "\n"
   ]
  },
  {
   "cell_type": "code",
   "execution_count": 1,
   "metadata": {},
   "outputs": [],
   "source": [
    "import pandas as pd"
   ]
  },
  {
   "cell_type": "markdown",
   "metadata": {},
   "source": [
    "### Exercise2: Create a DataFrame\n",
    "\n",
    "Q2:\n",
    "\n",
    "\n",
    "Once you've imported Pandas, how can you create a DataFrame from a Python dictionary?"
   ]
  },
  {
   "cell_type": "code",
   "execution_count": null,
   "metadata": {},
   "outputs": [],
   "source": [
    "df = pd.DataFrame()"
   ]
  },
  {
   "cell_type": "markdown",
   "metadata": {},
   "source": [
    "### Exercise3:ReadDatafromaCSV\n",
    "\n",
    "Q3:\n",
    "\n",
    "How can you use Pandas to read data from a CSV-file into a DataFrame?"
   ]
  },
  {
   "cell_type": "code",
   "execution_count": 3,
   "metadata": {},
   "outputs": [
    {
     "data": {
      "text/html": [
       "<div>\n",
       "<style scoped>\n",
       "    .dataframe tbody tr th:only-of-type {\n",
       "        vertical-align: middle;\n",
       "    }\n",
       "\n",
       "    .dataframe tbody tr th {\n",
       "        vertical-align: top;\n",
       "    }\n",
       "\n",
       "    .dataframe thead th {\n",
       "        text-align: right;\n",
       "    }\n",
       "</style>\n",
       "<table border=\"1\" class=\"dataframe\">\n",
       "  <thead>\n",
       "    <tr style=\"text-align: right;\">\n",
       "      <th></th>\n",
       "      <th>class</th>\n",
       "      <th>name</th>\n",
       "      <th>email</th>\n",
       "    </tr>\n",
       "  </thead>\n",
       "  <tbody>\n",
       "    <tr>\n",
       "      <th>0</th>\n",
       "      <td>Anders</td>\n",
       "      <td>AI23</td>\n",
       "      <td>anders@gmail.com</td>\n",
       "    </tr>\n",
       "    <tr>\n",
       "      <th>1</th>\n",
       "      <td>Eva</td>\n",
       "      <td>AI23</td>\n",
       "      <td>eva@gmail.com</td>\n",
       "    </tr>\n",
       "    <tr>\n",
       "      <th>2</th>\n",
       "      <td>Claes</td>\n",
       "      <td>AI23</td>\n",
       "      <td>claes@gmail.com</td>\n",
       "    </tr>\n",
       "  </tbody>\n",
       "</table>\n",
       "</div>"
      ],
      "text/plain": [
       "    class   name              email\n",
       "0  Anders   AI23   anders@gmail.com\n",
       "1     Eva   AI23      eva@gmail.com\n",
       "2   Claes   AI23    claes@gmail.com"
      ]
     },
     "execution_count": 3,
     "metadata": {},
     "output_type": "execute_result"
    }
   ],
   "source": [
    "pd.read_csv(\"../Data/students.csv\")"
   ]
  },
  {
   "cell_type": "markdown",
   "metadata": {},
   "source": [
    "### Exercise4: Selecting Data\n",
    "\n",
    "Let's assume you have a DataFrame named df with columns'Name', 'Age', and 'City'. \n",
    "Here are some tasks:\n",
    "\n",
    "- Select the 'Name' column.\n",
    "- Select the first 5 rows of the DataFrame.\n",
    "- Select all rows where 'Age' is greater than 25.\n",
    "- Select rows where 'City' is 'Gothenburg'.\n"
   ]
  },
  {
   "cell_type": "code",
   "execution_count": 5,
   "metadata": {},
   "outputs": [
    {
     "ename": "NameError",
     "evalue": "name 'df' is not defined",
     "output_type": "error",
     "traceback": [
      "\u001b[1;31m---------------------------------------------------------------------------\u001b[0m",
      "\u001b[1;31mNameError\u001b[0m                                 Traceback (most recent call last)",
      "\u001b[1;32mc:\\Users\\user\\Documents\\GitHub\\Python-Sebastian-Fredin\\Databehandling-AI23-SEBASTIAN-FREDIN\\Exercises\\Exercise01.ipynb Cell 8\u001b[0m line \u001b[0;36m1\n\u001b[1;32m----> <a href='vscode-notebook-cell:/c%3A/Users/user/Documents/GitHub/Python-Sebastian-Fredin/Databehandling-AI23-SEBASTIAN-FREDIN/Exercises/Exercise01.ipynb#X13sZmlsZQ%3D%3D?line=0'>1</a>\u001b[0m name_column \u001b[39m=\u001b[39m df[\u001b[39m\"\u001b[39m\u001b[39mName\u001b[39m\u001b[39m\"\u001b[39m]\n",
      "\u001b[1;31mNameError\u001b[0m: name 'df' is not defined"
     ]
    }
   ],
   "source": [
    "name_column = df[\"Name\"]\n",
    "\n",
    "first_five = df.head(5)\n",
    "\n",
    "age_over_25 = df[df['Age'] > 25]\n",
    "\n",
    "best_city = df[df['City'] == \"Gothenburg\"]"
   ]
  },
  {
   "cell_type": "markdown",
   "metadata": {},
   "source": [
    "### Exercise5: Data Filtering and Manipulation\n",
    "\n",
    "Q1: How can you filter the DataFrame to show only rows where 'Age' is less than 30?\n",
    "\n",
    "Q2: How can you sort the DataFrame by the 'Age' column in ascending order?\n",
    "\n",
    "Q3: How do you add a new column 'Salary' with some sample values to the DataFrame?"
   ]
  },
  {
   "cell_type": "code",
   "execution_count": null,
   "metadata": {},
   "outputs": [],
   "source": [
    "#Q1 \n",
    "age_less_than_30 = df[df['Age'] < 30]\n",
    "\n",
    "#Q2\n",
    "sorted_by_age = df.sort_values(by='Age', ascending=True)\n",
    "\n",
    "#Q3\n",
    "df.loc[:, 'Salary'] = [50000, 60000, 55000]"
   ]
  },
  {
   "cell_type": "markdown",
   "metadata": {},
   "source": [
    "### Exercise6: Data Aggregation\n",
    "\n",
    "Assume you have a DataFrame with a 'Sales' column. Here are some tasks:\n",
    "\n",
    "Q1: Calculate the total sales.\n",
    "\n",
    "Q2: Find the average sales.\n",
    "\n",
    "Q3: Determine the maximum and minimum sales values.\n",
    "\n",
    "Q4: Group the data by a categorical column(e.g.,'Region') and calculate the total sales in each group.\n",
    "\n",
    "Q5: How can you group data by a specific column and calculate summary statistics for each group?"
   ]
  },
  {
   "cell_type": "code",
   "execution_count": null,
   "metadata": {},
   "outputs": [],
   "source": [
    "#Q1\n",
    "total_sales = df['Sales'].sum()\n",
    "\n",
    "#Q2\n",
    "average_sales = df['Sales'].mean()\n",
    "\n",
    "#Q3\n",
    "maximun_sales = df['Sales'].max()\n",
    "minimum_sales = df['Sales'].min()\n",
    "\n",
    "#Q4\n"
   ]
  }
 ],
 "metadata": {
  "kernelspec": {
   "display_name": "Databehandling-AI23-SEBASTIAN-FREDIN-Q4_aLbq2",
   "language": "python",
   "name": "python3"
  },
  "language_info": {
   "codemirror_mode": {
    "name": "ipython",
    "version": 3
   },
   "file_extension": ".py",
   "mimetype": "text/x-python",
   "name": "python",
   "nbconvert_exporter": "python",
   "pygments_lexer": "ipython3",
   "version": "3.11.5"
  }
 },
 "nbformat": 4,
 "nbformat_minor": 2
}
